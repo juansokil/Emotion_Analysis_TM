{
 "cells": [
  {
   "cell_type": "code",
   "execution_count": 1,
   "metadata": {},
   "outputs": [],
   "source": [
    "import GetOldTweets3 as got\n",
    "import pandas as pd\n",
    "import re\n",
    "import matplotlib.pyplot as plt\n",
    "import numpy as np\n",
    "\n",
    "import os\n",
    "os.getcwd()"
   ]
  },
  {
   "cell_type": "markdown",
   "metadata": {},
   "source": [
    "Tengo que definir los criterios de busqueda de old tweets"
   ]
  },
  {
   "cell_type": "code",
   "execution_count": 4,
   "metadata": {},
   "outputs": [],
   "source": [
    "tweetCriteria = got.manager.TweetCriteria().setQuerySearch('#coronavirusEnargentina').setSince(\"2020-01-01\").setUntil(\"2020-06-01\").setEmoji(\"unicode\").setMaxTweets(100)"
   ]
  },
  {
   "cell_type": "code",
   "execution_count": 5,
   "metadata": {},
   "outputs": [],
   "source": [
    "tweets = got.manager.TweetManager.getTweets(tweetCriteria)"
   ]
  },
  {
   "cell_type": "code",
   "execution_count": 6,
   "metadata": {},
   "outputs": [
    {
     "name": "stdout",
     "output_type": "stream",
     "text": [
      "100 Tweets Were Collected!\n"
     ]
    }
   ],
   "source": [
    "print('{} Tweets Were Collected!'.format(len(tweets)))"
   ]
  },
  {
   "cell_type": "code",
   "execution_count": 7,
   "metadata": {},
   "outputs": [],
   "source": [
    "#tweets[0].__dict__\n",
    "# Creating list of chosen tweet data\n",
    "user_tweets = [[tweet.id, tweet.author_id, tweet.formatted_date, tweet.text, tweet.username, tweet.hashtags, tweet.favorites, tweet.retweets, tweet.mentions] for tweet in tweets]"
   ]
  },
  {
   "cell_type": "code",
   "execution_count": 8,
   "metadata": {},
   "outputs": [],
   "source": [
    "# Calling DataFrame constructor on list \n",
    "df = pd.DataFrame(user_tweets) "
   ]
  },
  {
   "cell_type": "code",
   "execution_count": 9,
   "metadata": {},
   "outputs": [],
   "source": [
    "df.columns = ['id', 'author_id', 'date', 'text', 'username', 'hashtags','favorites','retweets','mentions']\n",
    "df.to_csv ('./tweets.csv', index = False, header=True)"
   ]
  },
  {
   "cell_type": "markdown",
   "metadata": {},
   "source": [
    "En este punto junto todos los archivos que fui bajando en un mismo DataFrame - "
   ]
  },
  {
   "cell_type": "code",
   "execution_count": 10,
   "metadata": {},
   "outputs": [
    {
     "name": "stdout",
     "output_type": "stream",
     "text": [
      "(300, 9)\n"
     ]
    }
   ],
   "source": [
    "#Para este ejemplo son tres veces el mismo archivo, pero podrian ser los que quiera...\n",
    " \n",
    "file01=pd.read_csv('./tweets.csv')\n",
    "file02=pd.read_csv('./tweets.csv')\n",
    "file03=pd.read_csv('./tweets.csv')\n",
    "\n",
    "# Stack the DataFrames on top of each other\n",
    "df_tweets = pd.concat([file01, file02, file03], axis=0)\n",
    "print(df_tweets.shape)\n"
   ]
  },
  {
   "cell_type": "markdown",
   "metadata": {},
   "source": [
    "Existen muchos tweets con mas de un hashtag, por lo tanto es posible descargarlo de forma repetida, debo filtrar los duplicados"
   ]
  },
  {
   "cell_type": "code",
   "execution_count": 11,
   "metadata": {},
   "outputs": [
    {
     "name": "stdout",
     "output_type": "stream",
     "text": [
      "(100, 9)\n"
     ]
    }
   ],
   "source": [
    "df_tweets=df_tweets.drop_duplicates()\n",
    "print(df_tweets.shape)"
   ]
  },
  {
   "cell_type": "markdown",
   "metadata": {},
   "source": [
    "Dejo los tweets que tengan alguno de los hashtags que me interesen"
   ]
  },
  {
   "cell_type": "code",
   "execution_count": 12,
   "metadata": {},
   "outputs": [
    {
     "data": {
      "text/plain": [
       "(100, 10)"
      ]
     },
     "execution_count": 12,
     "metadata": {},
     "output_type": "execute_result"
    }
   ],
   "source": [
    "df_tweets['hashtags']=df_tweets['hashtags'].str.lower()  \n",
    "df_tweets['filtro'] = df_tweets['hashtags'].str.contains('#covid19argentina|#coronavirusenargentina|#coronavirusargentina')\n",
    "df_tweets = df_tweets[(df_tweets['filtro']==True)]\n",
    "df_tweets.shape"
   ]
  },
  {
   "cell_type": "markdown",
   "metadata": {},
   "source": [
    "Creo la fecha por dia, en este caso me sirve de esta forma. En otros casos puedo necesitar la hora, incluso el minuto"
   ]
  },
  {
   "cell_type": "code",
   "execution_count": 16,
   "metadata": {},
   "outputs": [
    {
     "name": "stdout",
     "output_type": "stream",
     "text": [
      "date_only\n",
      "2020-05-31    100\n",
      "dtype: int64\n"
     ]
    }
   ],
   "source": [
    "df_tweets['date']=pd.to_datetime(df_tweets['date'])  \n",
    "df_tweets.columns\n",
    "df_tweets['date_only'] = df_tweets['date'].dt.date\n",
    "###Reviso las cantidades#####\n",
    "totales=df_tweets.groupby('date_only').agg('size')\n",
    "print(totales)\n",
    "\n",
    "#df_tweets.groupby('date_only').agg('size').plot(color='black', label='Total')\n",
    "#plt.legend(loc='upper left')\n",
    "#plt.show() "
   ]
  },
  {
   "cell_type": "markdown",
   "metadata": {},
   "source": [
    "Guardo los datos completos####"
   ]
  },
  {
   "cell_type": "code",
   "execution_count": 150,
   "metadata": {},
   "outputs": [],
   "source": [
    "###guarda datos###\n",
    "df_tweets.to_csv ('./twittercovid.csv', index = False, header=True)\n",
    "###Levanta datos###\n",
    "df_tweets = pd.read_csv(\"./twittercovid.csv\", low_memory=False)\n"
   ]
  }
 ],
 "metadata": {
  "kernelspec": {
   "display_name": "Python 3",
   "language": "python",
   "name": "python3"
  },
  "language_info": {
   "codemirror_mode": {
    "name": "ipython",
    "version": 3
   },
   "file_extension": ".py",
   "mimetype": "text/x-python",
   "name": "python",
   "nbconvert_exporter": "python",
   "pygments_lexer": "ipython3",
   "version": "3.6.7"
  }
 },
 "nbformat": 4,
 "nbformat_minor": 2
}
